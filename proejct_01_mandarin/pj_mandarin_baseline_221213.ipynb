{
 "cells": [
  {
   "cell_type": "markdown",
   "metadata": {},
   "source": [
    "# 1_Import"
   ]
  },
  {
   "cell_type": "code",
   "execution_count": 1,
   "metadata": {},
   "outputs": [],
   "source": [
    "import pandas as pd\n",
    "import numpy as np"
   ]
  },
  {
   "cell_type": "markdown",
   "metadata": {},
   "source": [
    "# 2_Data Loding"
   ]
  },
  {
   "cell_type": "code",
   "execution_count": 18,
   "metadata": {},
   "outputs": [],
   "source": [
    "train = pd.read_csv('./01_data/train.csv')\n",
    "test = pd.read_csv('./01_data/test.csv')"
   ]
  },
  {
   "cell_type": "code",
   "execution_count": 19,
   "metadata": {},
   "outputs": [
    {
     "data": {
      "text/html": [
       "<div>\n",
       "<style scoped>\n",
       "    .dataframe tbody tr th:only-of-type {\n",
       "        vertical-align: middle;\n",
       "    }\n",
       "\n",
       "    .dataframe tbody tr th {\n",
       "        vertical-align: top;\n",
       "    }\n",
       "\n",
       "    .dataframe thead th {\n",
       "        text-align: right;\n",
       "    }\n",
       "</style>\n",
       "<table border=\"1\" class=\"dataframe\">\n",
       "  <thead>\n",
       "    <tr style=\"text-align: right;\">\n",
       "      <th></th>\n",
       "      <th>ID</th>\n",
       "      <th>착과량(int)</th>\n",
       "      <th>수고(m)</th>\n",
       "      <th>수관폭1(min)</th>\n",
       "      <th>수관폭2(max)</th>\n",
       "      <th>수관폭평균</th>\n",
       "      <th>2022-09-01 새순</th>\n",
       "      <th>2022-09-02 새순</th>\n",
       "      <th>2022-09-03 새순</th>\n",
       "      <th>2022-09-04 새순</th>\n",
       "      <th>...</th>\n",
       "      <th>2022-11-19 엽록소</th>\n",
       "      <th>2022-11-20 엽록소</th>\n",
       "      <th>2022-11-21 엽록소</th>\n",
       "      <th>2022-11-22 엽록소</th>\n",
       "      <th>2022-11-23 엽록소</th>\n",
       "      <th>2022-11-24 엽록소</th>\n",
       "      <th>2022-11-25 엽록소</th>\n",
       "      <th>2022-11-26 엽록소</th>\n",
       "      <th>2022-11-27 엽록소</th>\n",
       "      <th>2022-11-28 엽록소</th>\n",
       "    </tr>\n",
       "  </thead>\n",
       "  <tbody>\n",
       "    <tr>\n",
       "      <th>0</th>\n",
       "      <td>TRAIN_0000</td>\n",
       "      <td>692</td>\n",
       "      <td>275.0</td>\n",
       "      <td>287.0</td>\n",
       "      <td>292.0</td>\n",
       "      <td>289.5</td>\n",
       "      <td>2.8</td>\n",
       "      <td>2.8</td>\n",
       "      <td>2.7</td>\n",
       "      <td>2.7</td>\n",
       "      <td>...</td>\n",
       "      <td>70.978249</td>\n",
       "      <td>70.876794</td>\n",
       "      <td>70.705253</td>\n",
       "      <td>70.559603</td>\n",
       "      <td>70.427356</td>\n",
       "      <td>70.340491</td>\n",
       "      <td>70.293830</td>\n",
       "      <td>70.262422</td>\n",
       "      <td>70.169841</td>\n",
       "      <td>70.043251</td>\n",
       "    </tr>\n",
       "    <tr>\n",
       "      <th>1</th>\n",
       "      <td>TRAIN_0001</td>\n",
       "      <td>534</td>\n",
       "      <td>293.0</td>\n",
       "      <td>284.0</td>\n",
       "      <td>336.0</td>\n",
       "      <td>310.0</td>\n",
       "      <td>3.3</td>\n",
       "      <td>3.3</td>\n",
       "      <td>3.3</td>\n",
       "      <td>3.2</td>\n",
       "      <td>...</td>\n",
       "      <td>71.535483</td>\n",
       "      <td>71.382303</td>\n",
       "      <td>71.253604</td>\n",
       "      <td>71.092665</td>\n",
       "      <td>70.955608</td>\n",
       "      <td>70.796630</td>\n",
       "      <td>70.597550</td>\n",
       "      <td>70.565088</td>\n",
       "      <td>70.560502</td>\n",
       "      <td>70.427600</td>\n",
       "    </tr>\n",
       "    <tr>\n",
       "      <th>2</th>\n",
       "      <td>TRAIN_0002</td>\n",
       "      <td>634</td>\n",
       "      <td>300.0</td>\n",
       "      <td>392.0</td>\n",
       "      <td>450.0</td>\n",
       "      <td>421.0</td>\n",
       "      <td>3.0</td>\n",
       "      <td>2.9</td>\n",
       "      <td>2.9</td>\n",
       "      <td>2.9</td>\n",
       "      <td>...</td>\n",
       "      <td>71.279804</td>\n",
       "      <td>71.199570</td>\n",
       "      <td>71.144020</td>\n",
       "      <td>71.026740</td>\n",
       "      <td>70.920038</td>\n",
       "      <td>70.876723</td>\n",
       "      <td>70.710129</td>\n",
       "      <td>70.595971</td>\n",
       "      <td>70.418203</td>\n",
       "      <td>70.399578</td>\n",
       "    </tr>\n",
       "    <tr>\n",
       "      <th>3</th>\n",
       "      <td>TRAIN_0003</td>\n",
       "      <td>639</td>\n",
       "      <td>289.0</td>\n",
       "      <td>368.0</td>\n",
       "      <td>379.0</td>\n",
       "      <td>373.5</td>\n",
       "      <td>3.1</td>\n",
       "      <td>3.0</td>\n",
       "      <td>3.0</td>\n",
       "      <td>3.0</td>\n",
       "      <td>...</td>\n",
       "      <td>69.934615</td>\n",
       "      <td>69.884124</td>\n",
       "      <td>69.845683</td>\n",
       "      <td>69.794682</td>\n",
       "      <td>69.779813</td>\n",
       "      <td>69.614644</td>\n",
       "      <td>69.455404</td>\n",
       "      <td>69.281590</td>\n",
       "      <td>69.238689</td>\n",
       "      <td>69.133970</td>\n",
       "    </tr>\n",
       "    <tr>\n",
       "      <th>4</th>\n",
       "      <td>TRAIN_0004</td>\n",
       "      <td>496</td>\n",
       "      <td>306.0</td>\n",
       "      <td>353.0</td>\n",
       "      <td>358.0</td>\n",
       "      <td>355.5</td>\n",
       "      <td>3.7</td>\n",
       "      <td>3.6</td>\n",
       "      <td>3.6</td>\n",
       "      <td>3.6</td>\n",
       "      <td>...</td>\n",
       "      <td>68.313016</td>\n",
       "      <td>68.285364</td>\n",
       "      <td>68.209860</td>\n",
       "      <td>68.209458</td>\n",
       "      <td>68.040083</td>\n",
       "      <td>67.859963</td>\n",
       "      <td>67.775556</td>\n",
       "      <td>67.701456</td>\n",
       "      <td>67.504244</td>\n",
       "      <td>67.410093</td>\n",
       "    </tr>\n",
       "  </tbody>\n",
       "</table>\n",
       "<p>5 rows × 184 columns</p>\n",
       "</div>"
      ],
      "text/plain": [
       "           ID  착과량(int)  수고(m)  수관폭1(min)  수관폭2(max)  수관폭평균  2022-09-01 새순  \\\n",
       "0  TRAIN_0000       692  275.0      287.0      292.0  289.5            2.8   \n",
       "1  TRAIN_0001       534  293.0      284.0      336.0  310.0            3.3   \n",
       "2  TRAIN_0002       634  300.0      392.0      450.0  421.0            3.0   \n",
       "3  TRAIN_0003       639  289.0      368.0      379.0  373.5            3.1   \n",
       "4  TRAIN_0004       496  306.0      353.0      358.0  355.5            3.7   \n",
       "\n",
       "   2022-09-02 새순  2022-09-03 새순  2022-09-04 새순  ...  2022-11-19 엽록소  \\\n",
       "0            2.8            2.7            2.7  ...       70.978249   \n",
       "1            3.3            3.3            3.2  ...       71.535483   \n",
       "2            2.9            2.9            2.9  ...       71.279804   \n",
       "3            3.0            3.0            3.0  ...       69.934615   \n",
       "4            3.6            3.6            3.6  ...       68.313016   \n",
       "\n",
       "   2022-11-20 엽록소  2022-11-21 엽록소  2022-11-22 엽록소  2022-11-23 엽록소  \\\n",
       "0       70.876794       70.705253       70.559603       70.427356   \n",
       "1       71.382303       71.253604       71.092665       70.955608   \n",
       "2       71.199570       71.144020       71.026740       70.920038   \n",
       "3       69.884124       69.845683       69.794682       69.779813   \n",
       "4       68.285364       68.209860       68.209458       68.040083   \n",
       "\n",
       "   2022-11-24 엽록소  2022-11-25 엽록소  2022-11-26 엽록소  2022-11-27 엽록소  \\\n",
       "0       70.340491       70.293830       70.262422       70.169841   \n",
       "1       70.796630       70.597550       70.565088       70.560502   \n",
       "2       70.876723       70.710129       70.595971       70.418203   \n",
       "3       69.614644       69.455404       69.281590       69.238689   \n",
       "4       67.859963       67.775556       67.701456       67.504244   \n",
       "\n",
       "   2022-11-28 엽록소  \n",
       "0       70.043251  \n",
       "1       70.427600  \n",
       "2       70.399578  \n",
       "3       69.133970  \n",
       "4       67.410093  \n",
       "\n",
       "[5 rows x 184 columns]"
      ]
     },
     "execution_count": 19,
     "metadata": {},
     "output_type": "execute_result"
    }
   ],
   "source": [
    "train.head()"
   ]
  },
  {
   "cell_type": "code",
   "execution_count": 20,
   "metadata": {},
   "outputs": [
    {
     "data": {
      "text/plain": [
       "Index(['ID', '착과량(int)', '수고(m)', '수관폭1(min)', '수관폭2(max)', '수관폭평균',\n",
       "       '2022-09-01 새순', '2022-09-02 새순', '2022-09-03 새순', '2022-09-04 새순',\n",
       "       ...\n",
       "       '2022-11-19 엽록소', '2022-11-20 엽록소', '2022-11-21 엽록소', '2022-11-22 엽록소',\n",
       "       '2022-11-23 엽록소', '2022-11-24 엽록소', '2022-11-25 엽록소', '2022-11-26 엽록소',\n",
       "       '2022-11-27 엽록소', '2022-11-28 엽록소'],\n",
       "      dtype='object', length=184)"
      ]
     },
     "execution_count": 20,
     "metadata": {},
     "output_type": "execute_result"
    }
   ],
   "source": [
    "train.columns"
   ]
  },
  {
   "cell_type": "markdown",
   "metadata": {},
   "source": [
    "# 3_입력 Feature와 Target(착과량) 분할"
   ]
  },
  {
   "cell_type": "code",
   "execution_count": 21,
   "metadata": {},
   "outputs": [],
   "source": [
    "X_train = train.drop(['ID', '착과량(int)'], axis=1)\n",
    "y_train = train['착과량(int)']"
   ]
  },
  {
   "cell_type": "markdown",
   "metadata": {},
   "source": [
    "# 4_모델 선언 및 학습"
   ]
  },
  {
   "cell_type": "code",
   "execution_count": 22,
   "metadata": {},
   "outputs": [
    {
     "data": {
      "text/html": [
       "<style>#sk-container-id-1 {color: black;background-color: white;}#sk-container-id-1 pre{padding: 0;}#sk-container-id-1 div.sk-toggleable {background-color: white;}#sk-container-id-1 label.sk-toggleable__label {cursor: pointer;display: block;width: 100%;margin-bottom: 0;padding: 0.3em;box-sizing: border-box;text-align: center;}#sk-container-id-1 label.sk-toggleable__label-arrow:before {content: \"▸\";float: left;margin-right: 0.25em;color: #696969;}#sk-container-id-1 label.sk-toggleable__label-arrow:hover:before {color: black;}#sk-container-id-1 div.sk-estimator:hover label.sk-toggleable__label-arrow:before {color: black;}#sk-container-id-1 div.sk-toggleable__content {max-height: 0;max-width: 0;overflow: hidden;text-align: left;background-color: #f0f8ff;}#sk-container-id-1 div.sk-toggleable__content pre {margin: 0.2em;color: black;border-radius: 0.25em;background-color: #f0f8ff;}#sk-container-id-1 input.sk-toggleable__control:checked~div.sk-toggleable__content {max-height: 200px;max-width: 100%;overflow: auto;}#sk-container-id-1 input.sk-toggleable__control:checked~label.sk-toggleable__label-arrow:before {content: \"▾\";}#sk-container-id-1 div.sk-estimator input.sk-toggleable__control:checked~label.sk-toggleable__label {background-color: #d4ebff;}#sk-container-id-1 div.sk-label input.sk-toggleable__control:checked~label.sk-toggleable__label {background-color: #d4ebff;}#sk-container-id-1 input.sk-hidden--visually {border: 0;clip: rect(1px 1px 1px 1px);clip: rect(1px, 1px, 1px, 1px);height: 1px;margin: -1px;overflow: hidden;padding: 0;position: absolute;width: 1px;}#sk-container-id-1 div.sk-estimator {font-family: monospace;background-color: #f0f8ff;border: 1px dotted black;border-radius: 0.25em;box-sizing: border-box;margin-bottom: 0.5em;}#sk-container-id-1 div.sk-estimator:hover {background-color: #d4ebff;}#sk-container-id-1 div.sk-parallel-item::after {content: \"\";width: 100%;border-bottom: 1px solid gray;flex-grow: 1;}#sk-container-id-1 div.sk-label:hover label.sk-toggleable__label {background-color: #d4ebff;}#sk-container-id-1 div.sk-serial::before {content: \"\";position: absolute;border-left: 1px solid gray;box-sizing: border-box;top: 0;bottom: 0;left: 50%;z-index: 0;}#sk-container-id-1 div.sk-serial {display: flex;flex-direction: column;align-items: center;background-color: white;padding-right: 0.2em;padding-left: 0.2em;position: relative;}#sk-container-id-1 div.sk-item {position: relative;z-index: 1;}#sk-container-id-1 div.sk-parallel {display: flex;align-items: stretch;justify-content: center;background-color: white;position: relative;}#sk-container-id-1 div.sk-item::before, #sk-container-id-1 div.sk-parallel-item::before {content: \"\";position: absolute;border-left: 1px solid gray;box-sizing: border-box;top: 0;bottom: 0;left: 50%;z-index: -1;}#sk-container-id-1 div.sk-parallel-item {display: flex;flex-direction: column;z-index: 1;position: relative;background-color: white;}#sk-container-id-1 div.sk-parallel-item:first-child::after {align-self: flex-end;width: 50%;}#sk-container-id-1 div.sk-parallel-item:last-child::after {align-self: flex-start;width: 50%;}#sk-container-id-1 div.sk-parallel-item:only-child::after {width: 0;}#sk-container-id-1 div.sk-dashed-wrapped {border: 1px dashed gray;margin: 0 0.4em 0.5em 0.4em;box-sizing: border-box;padding-bottom: 0.4em;background-color: white;}#sk-container-id-1 div.sk-label label {font-family: monospace;font-weight: bold;display: inline-block;line-height: 1.2em;}#sk-container-id-1 div.sk-label-container {text-align: center;}#sk-container-id-1 div.sk-container {/* jupyter's `normalize.less` sets `[hidden] { display: none; }` but bootstrap.min.css set `[hidden] { display: none !important; }` so we also need the `!important` here to be able to override the default hidden behavior on the sphinx rendered scikit-learn.org. See: https://github.com/scikit-learn/scikit-learn/issues/21755 */display: inline-block !important;position: relative;}#sk-container-id-1 div.sk-text-repr-fallback {display: none;}</style><div id=\"sk-container-id-1\" class=\"sk-top-container\"><div class=\"sk-text-repr-fallback\"><pre>DecisionTreeRegressor()</pre><b>In a Jupyter environment, please rerun this cell to show the HTML representation or trust the notebook. <br />On GitHub, the HTML representation is unable to render, please try loading this page with nbviewer.org.</b></div><div class=\"sk-container\" hidden><div class=\"sk-item\"><div class=\"sk-estimator sk-toggleable\"><input class=\"sk-toggleable__control sk-hidden--visually\" id=\"sk-estimator-id-1\" type=\"checkbox\" checked><label for=\"sk-estimator-id-1\" class=\"sk-toggleable__label sk-toggleable__label-arrow\">DecisionTreeRegressor</label><div class=\"sk-toggleable__content\"><pre>DecisionTreeRegressor()</pre></div></div></div></div></div>"
      ],
      "text/plain": [
       "DecisionTreeRegressor()"
      ]
     },
     "execution_count": 22,
     "metadata": {},
     "output_type": "execute_result"
    }
   ],
   "source": [
    "from sklearn.tree import DecisionTreeRegressor\n",
    "\n",
    "model = DecisionTreeRegressor()\n",
    "\n",
    "model.fit(X_train, y_train)"
   ]
  },
  {
   "cell_type": "markdown",
   "metadata": {},
   "source": [
    "# 5_추론"
   ]
  },
  {
   "cell_type": "code",
   "execution_count": 23,
   "metadata": {},
   "outputs": [],
   "source": [
    "pred = model.predict(test.drop(['ID'], axis=1))"
   ]
  },
  {
   "cell_type": "markdown",
   "metadata": {},
   "source": [
    "# 6_제출 (Submission)"
   ]
  },
  {
   "cell_type": "code",
   "execution_count": 24,
   "metadata": {},
   "outputs": [],
   "source": [
    "sample_submission = pd.read_csv('./01_data/sample_submission.csv')"
   ]
  },
  {
   "cell_type": "code",
   "execution_count": 25,
   "metadata": {},
   "outputs": [],
   "source": [
    "sample_submission['착과량(int)'] = pred\n",
    "sample_submission.to_csv('./02_submission/submit.csv', index=False)"
   ]
  },
  {
   "cell_type": "code",
   "execution_count": 26,
   "metadata": {},
   "outputs": [
    {
     "data": {
      "text/html": [
       "<div>\n",
       "<style scoped>\n",
       "    .dataframe tbody tr th:only-of-type {\n",
       "        vertical-align: middle;\n",
       "    }\n",
       "\n",
       "    .dataframe tbody tr th {\n",
       "        vertical-align: top;\n",
       "    }\n",
       "\n",
       "    .dataframe thead th {\n",
       "        text-align: right;\n",
       "    }\n",
       "</style>\n",
       "<table border=\"1\" class=\"dataframe\">\n",
       "  <thead>\n",
       "    <tr style=\"text-align: right;\">\n",
       "      <th></th>\n",
       "      <th>ID</th>\n",
       "      <th>착과량(int)</th>\n",
       "    </tr>\n",
       "  </thead>\n",
       "  <tbody>\n",
       "    <tr>\n",
       "      <th>0</th>\n",
       "      <td>TEST_0000</td>\n",
       "      <td>260.0</td>\n",
       "    </tr>\n",
       "    <tr>\n",
       "      <th>1</th>\n",
       "      <td>TEST_0001</td>\n",
       "      <td>758.0</td>\n",
       "    </tr>\n",
       "    <tr>\n",
       "      <th>2</th>\n",
       "      <td>TEST_0002</td>\n",
       "      <td>101.0</td>\n",
       "    </tr>\n",
       "    <tr>\n",
       "      <th>3</th>\n",
       "      <td>TEST_0003</td>\n",
       "      <td>483.0</td>\n",
       "    </tr>\n",
       "    <tr>\n",
       "      <th>4</th>\n",
       "      <td>TEST_0004</td>\n",
       "      <td>687.0</td>\n",
       "    </tr>\n",
       "  </tbody>\n",
       "</table>\n",
       "</div>"
      ],
      "text/plain": [
       "          ID  착과량(int)\n",
       "0  TEST_0000     260.0\n",
       "1  TEST_0001     758.0\n",
       "2  TEST_0002     101.0\n",
       "3  TEST_0003     483.0\n",
       "4  TEST_0004     687.0"
      ]
     },
     "execution_count": 26,
     "metadata": {},
     "output_type": "execute_result"
    }
   ],
   "source": [
    "sample_submission.head()"
   ]
  }
 ],
 "metadata": {
  "kernelspec": {
   "display_name": "Python 3.8.13 ('pytorch_gpu')",
   "language": "python",
   "name": "python3"
  },
  "language_info": {
   "codemirror_mode": {
    "name": "ipython",
    "version": 3
   },
   "file_extension": ".py",
   "mimetype": "text/x-python",
   "name": "python",
   "nbconvert_exporter": "python",
   "pygments_lexer": "ipython3",
   "version": "3.8.13"
  },
  "orig_nbformat": 4,
  "vscode": {
   "interpreter": {
    "hash": "a798a8cd8beadc83dc19adf1652df11aa0685d59b30007e08ffc64b33b3f407e"
   }
  }
 },
 "nbformat": 4,
 "nbformat_minor": 2
}
